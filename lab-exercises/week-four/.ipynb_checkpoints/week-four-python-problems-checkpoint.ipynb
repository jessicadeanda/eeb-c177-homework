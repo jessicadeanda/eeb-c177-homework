{
 "cells": [
  {
   "cell_type": "code",
   "execution_count": 5,
   "metadata": {},
   "outputs": [
    {
     "name": "stdout",
     "output_type": "stream",
     "text": [
      "first three characters: oxy\n",
      "last three characters: gen\n"
     ]
    }
   ],
   "source": [
    "#Slicing Strings\n",
    "\n",
    "element = \"oxygen\"\n",
    "print(\"first three characters:\", element[0:3])\n",
    "print('last three characters:', element[3:6])"
   ]
  },
  {
   "cell_type": "code",
   "execution_count": 6,
   "metadata": {},
   "outputs": [
    {
     "name": "stdout",
     "output_type": "stream",
     "text": [
      "oxyg\n",
      "en\n",
      "oxygen\n"
     ]
    }
   ],
   "source": [
    "#Slicing Strings - Question 1\n",
    "\n",
    "print(element[:4])\n",
    "#[:4] starts from the first character and ends at the fourth character\n",
    "print(element[4:])\n",
    "#[4:] starts from the fourth character and ends at the last character\n",
    "print(element[:])\n",
    "#[:] takes all of the characters"
   ]
  },
  {
   "cell_type": "code",
   "execution_count": 7,
   "metadata": {},
   "outputs": [
    {
     "name": "stdout",
     "output_type": "stream",
     "text": [
      "n\n",
      "e\n"
     ]
    }
   ],
   "source": [
    "#Slicing Strings - Question 2\n",
    "\n",
    "print(element[-1])\n",
    "#[-1] takes the last character\n",
    "print(element[-2])\n",
    "#[-2] takes the econd to last character"
   ]
  },
  {
   "cell_type": "code",
   "execution_count": 8,
   "metadata": {},
   "outputs": [
    {
     "name": "stdout",
     "output_type": "stream",
     "text": [
      "xyge\n"
     ]
    }
   ],
   "source": [
    "#Slicing Strings - Question 3\n",
    "\n",
    "print(element[1:-1])\n",
    "#\"1:\" indicates that the output will start at the second character of the input. \":\" would have caused it to start at the first character\n",
    "#\"-1\" indicates that the output will exclude the last character of the input\n",
    "#Unlike the previous problem, this output is a string of characters "
   ]
  },
  {
   "cell_type": "code",
   "execution_count": 13,
   "metadata": {},
   "outputs": [
    {
     "ename": "NameError",
     "evalue": "name 'data' is not defined",
     "output_type": "error",
     "traceback": [
      "\u001b[0;31m---------------------------------------------------------------------------\u001b[0m",
      "\u001b[0;31mNameError\u001b[0m                                 Traceback (most recent call last)",
      "\u001b[0;32m<ipython-input-13-9291d3753f7c>\u001b[0m in \u001b[0;36m<module>\u001b[0;34m\u001b[0m\n\u001b[0;32m----> 1\u001b[0;31m \u001b[0mdata\u001b[0m\u001b[0;34m[\u001b[0m\u001b[0;36m3\u001b[0m\u001b[0;34m:\u001b[0m\u001b[0;36m3\u001b[0m\u001b[0;34m,\u001b[0m \u001b[0;36m4\u001b[0m\u001b[0;34m:\u001b[0m\u001b[0;36m4\u001b[0m\u001b[0;34m]\u001b[0m\u001b[0;34m\u001b[0m\u001b[0;34m\u001b[0m\u001b[0m\n\u001b[0m\u001b[1;32m      2\u001b[0m \u001b[0mdata\u001b[0m\u001b[0;34m[\u001b[0m\u001b[0;36m3\u001b[0m\u001b[0;34m:\u001b[0m\u001b[0;36m3\u001b[0m\u001b[0;34m,\u001b[0m \u001b[0;34m:\u001b[0m\u001b[0;34m]\u001b[0m\u001b[0;34m\u001b[0m\u001b[0;34m\u001b[0m\u001b[0m\n\u001b[1;32m      3\u001b[0m \u001b[0;31m#each of these will produce a new empty string\u001b[0m\u001b[0;34m\u001b[0m\u001b[0;34m\u001b[0m\u001b[0;34m\u001b[0m\u001b[0m\n\u001b[1;32m      4\u001b[0m \u001b[0;31m#I went back to week-four-inclass.ipynb to try this; the output was [] for each command\u001b[0m\u001b[0;34m\u001b[0m\u001b[0;34m\u001b[0m\u001b[0;34m\u001b[0m\u001b[0m\n",
      "\u001b[0;31mNameError\u001b[0m: name 'data' is not defined"
     ]
    }
   ],
   "source": [
    "#Slicing Strings - Question 3\n",
    "\n",
    "data[3:3, 4:4]\n",
    "data[3:3, :]\n",
    "#each of these will produce a new empty string because they start and end at the same location on the array\n",
    "#I went back to week-four-inclass.ipynb to try this; the output was [] for each command"
   ]
  },
  {
   "cell_type": "code",
   "execution_count": 14,
   "metadata": {},
   "outputs": [],
   "source": [
    "import numpy"
   ]
  },
  {
   "cell_type": "code",
   "execution_count": 15,
   "metadata": {},
   "outputs": [
    {
     "name": "stdout",
     "output_type": "stream",
     "text": [
      "A = \n",
      "[[1 2 3]\n",
      " [4 5 6]\n",
      " [7 8 9]]\n",
      "B = \n",
      "[[1 2 3 1 2 3]\n",
      " [4 5 6 4 5 6]\n",
      " [7 8 9 7 8 9]]\n",
      "C = \n",
      "[[1 2 3]\n",
      " [4 5 6]\n",
      " [7 8 9]\n",
      " [1 2 3]\n",
      " [4 5 6]\n",
      " [7 8 9]]\n"
     ]
    }
   ],
   "source": [
    "#Stacking Arrays\n",
    "\n",
    "A = numpy.array([[1,2,3], [4,5,6], [7, 8, 9]])\n",
    "print('A = ')\n",
    "print(A)\n",
    "B = numpy.hstack([A, A])\n",
    "print('B = ')\n",
    "print(B)\n",
    "C = numpy.vstack([A, A])\n",
    "print('C = ')\n",
    "print(C)"
   ]
  },
  {
   "cell_type": "code",
   "execution_count": 36,
   "metadata": {},
   "outputs": [
    {
     "name": "stdout",
     "output_type": "stream",
     "text": [
      "Column 1 of A:\n",
      "[1 4 7]\n",
      "Column 3 of A:\n",
      "[3 6 9]\n",
      "2x3 array:\n",
      "[[1 4 7]\n",
      " [3 6 9]]\n"
     ]
    }
   ],
   "source": [
    "#Stacking Arrays - Question 1\n",
    "#FIRST ATTEMPT --> resulted in a 2x3 array, not 3x2 --> SEE NEXT\n",
    "\n",
    "D = A[:,0]\n",
    "print(\"Column 1 of A:\")\n",
    "print(D)\n",
    "#defines D as the first column of A; : corresponds to all rows and 0 corresponds to the first column\n",
    "\n",
    "E = A[:,2]\n",
    "print(\"Column 3 of A:\")\n",
    "print(E)\n",
    "#defines E as the last column of A; : corresponds to all rows and 2 corresponds to the third column\n",
    "\n",
    "F = numpy.vstack([D,E])\n",
    "print(\"2x3 array:\")\n",
    "print(F)\n",
    "#vertical stack of these rows to make a 2x3 array"
   ]
  },
  {
   "cell_type": "code",
   "execution_count": 43,
   "metadata": {},
   "outputs": [
    {
     "name": "stdout",
     "output_type": "stream",
     "text": [
      "3x2 stack = \n",
      "[[1 3]\n",
      " [4 6]\n",
      " [7 9]]\n"
     ]
    }
   ],
   "source": [
    "#Stacking Arrays - Question 1 (REVISED)\n",
    "\n",
    "stack = numpy.hstack((A[:, :1], A[:, -1:]))\n",
    "#[:, :1] takes all rows of the array, but only up to the second column (so just the first column)\n",
    "#[:, -1:] takes all rows, but only the last column of the array\n",
    "#numpy.hstack stacks these two columns horizontally (side by side)\n",
    "#through this method, I do not have to save the columns individually before stacking\n",
    "#Why does [:, :1] arrange the data in a column while [:, 0] arranges it in a row if they technically mean the same thing?\n",
    "\n",
    "print('3x2 stack = ')\n",
    "print(stack)"
   ]
  },
  {
   "cell_type": "code",
   "execution_count": 42,
   "metadata": {},
   "outputs": [
    {
     "data": {
      "text/plain": [
       "array([2, 3, 4, 5])"
      ]
     },
     "execution_count": 42,
     "metadata": {},
     "output_type": "execute_result"
    }
   ],
   "source": [
    "#Change In Inflammation\n",
    "\n",
    "npdiff = numpy.array([ 0,  2,  5,  9, 14])\n",
    "numpy.diff(npdiff)"
   ]
  },
  {
   "cell_type": "code",
   "execution_count": 40,
   "metadata": {},
   "outputs": [],
   "source": [
    "#Change In Inflammation - Question 1\n",
    "\n",
    "#numpy.diff should be used along the x-axis in order to confine data analysis to each patient\n",
    "#In other words, since each row contains an individual patient's data, using this function along the x-axis will calculate the change in inflammation over time of that individual patient\n",
    "#Example of how this can be used: this sort of analysis is useful in terms of monitoring a patient's improvement over time given a certain treatment and can be compared to another patient's change over time given a separate treatment (or no treatment/control)\n",
    "#This is more useful than using teh function over the y-axis because that would calculate the change in inflammation across patients in an individual day/time-point even though the patients may start off at different levels of inflammation or recieve different treatments "
   ]
  },
  {
   "cell_type": "code",
   "execution_count": 44,
   "metadata": {},
   "outputs": [],
   "source": [
    "#Change In Inflammation - Question 2\n",
    "\n",
    "#since the diff fuction runs along the x-axis (along a row), the output would have the same amount of rows, but one less column than the input\n",
    "#an input with shape of [60,40] (60 rows and 40 columns) will yield an output of [60, 39] "
   ]
  },
  {
   "cell_type": "code",
   "execution_count": null,
   "metadata": {},
   "outputs": [],
   "source": [
    "#Change In Inflammation - Question 3\n",
    "\n",
    "#the first step would be to save an array of changes in inflammation, hich will be calculated via the numpy.diff function\n",
    "#this function calculates the difference between values, which will be positive regardless of the direction in which the value changes\n",
    "#the next step is to use the numpy.max function on the saved array to calculate the maximum value, which corresponds to the greatest change"
   ]
  }
 ],
 "metadata": {
  "kernelspec": {
   "display_name": "Python 3",
   "language": "python",
   "name": "python3"
  },
  "language_info": {
   "codemirror_mode": {
    "name": "ipython",
    "version": 3
   },
   "file_extension": ".py",
   "mimetype": "text/x-python",
   "name": "python",
   "nbconvert_exporter": "python",
   "pygments_lexer": "ipython3",
   "version": "3.7.5"
  }
 },
 "nbformat": 4,
 "nbformat_minor": 2
}
