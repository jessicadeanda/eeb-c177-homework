{
 "cells": [
  {
   "cell_type": "code",
   "execution_count": 8,
   "metadata": {},
   "outputs": [
    {
     "name": "stdout",
     "output_type": "stream",
     "text": [
      "Original dictionary :  {1: 2, 3: 4, 4: 3, 2: 1, 0: 0}\n",
      "Dictionary in ascending order by value :  [(0, 0), (2, 1), (1, 2), (4, 3), (3, 4)]\n",
      "Dictionary in descending order by value :  {3: 4, 4: 3, 1: 2, 2: 1, 0: 0}\n"
     ]
    }
   ],
   "source": [
    "#1. Write a Python script to sort (ascending and descending) a dictionary by value.\n",
    "\n",
    "#can sort via (1) lambda functions or (2) itemgetter; itemgetter is easier\n",
    "\n",
    "import operator\n",
    "#this command enables operator functions (similar to numpy and panda)\n",
    "\n",
    "d = {1: 2, 3: 4, 4: 3, 2: 1, 0: 0}\n",
    "print('Original dictionary : ',d)\n",
    "#the sample dictionary is named 'd'\n",
    "#Dictionary: an unordered collection of data values\n",
    "\n",
    "sorted_d = sorted(d.items(), key=operator.itemgetter(1))\n",
    "print('Dictionary in ascending order by value : ',sorted_d)\n",
    "#'sorted' sorts the items in dictionary d (which is denoted by 'd.items') in ascending order\n",
    "#I believe that 'key-operator.itemgetter(1)' tells it to sort the data according to the second value of the coordinate \n",
    "#'itemgetter' fetches the items specified in the parentheses\n",
    "#ex: if the coordinate is 4:3, it will consider 3 when sorting\n",
    "\n",
    "sorted_d = dict( sorted(d.items(), key=operator.itemgetter(1),reverse=True))\n",
    "print('Dictionary in descending order by value : ',sorted_d)\n",
    "#this is similar to the previous question, but'reverse=True' sorts the items in reverse order instead of ascending"
   ]
  },
  {
   "cell_type": "code",
   "execution_count": 16,
   "metadata": {},
   "outputs": [
    {
     "name": "stdout",
     "output_type": "stream",
     "text": [
      "{0: 10, 1: 20}\n",
      "{0: 10, 1: 20, 2: 30}\n"
     ]
    }
   ],
   "source": [
    "#2. Write a Python script to add a key to a dictionary.\n",
    "\n",
    "d = {0:10, 1:20} \n",
    "print(d)\n",
    "#unsuccessful attempt: d.append({2:30})\n",
    "\n",
    "d.update({2:30})\n",
    "print(d)\n",
    "#the 'd' corresponds to the defined dictionary \n",
    "#'update' adds the items in parentheses to d"
   ]
  },
  {
   "cell_type": "code",
   "execution_count": 21,
   "metadata": {},
   "outputs": [
    {
     "name": "stdout",
     "output_type": "stream",
     "text": [
      "({1: 10, 2: 20}, {3: 30, 4: 40}, {5: 50, 6: 60})\n",
      "{1: 10, 2: 20, 3: 30, 4: 40, 5: 50, 6: 60}\n"
     ]
    }
   ],
   "source": [
    "#3. Write a Python script to concatenate following dictionaries to create a new one.\n",
    "\n",
    "dic1 = {1:10, 2:20}\n",
    "dic2 = {3:30, 4:40}\n",
    "dic3 = {5:50, 6:60}\n",
    "\n",
    "dic4 = dic1, dic2, dic3\n",
    "print(dic4)\n",
    "#the output isn't exactly what we want\n",
    "\n",
    "dic4 = {}\n",
    "#best to make a new/empty dictionary\n",
    "\n",
    "for d in (dic1, dic2, dic3): dic4.update(d)\n",
    "print(dic4)\n",
    "#this for loop take the input d an dputs it in the empty dictionary (dic4) by updating"
   ]
  },
  {
   "cell_type": "code",
   "execution_count": 22,
   "metadata": {},
   "outputs": [
    {
     "name": "stdout",
     "output_type": "stream",
     "text": [
      "Key is present in the dictionary\n",
      "Key is not present in the dictionary\n"
     ]
    }
   ],
   "source": [
    "#4. Write a Python script to check whether a given key already exists in a dictionary.\n",
    "\n",
    "d = {1: 10, 2: 20, 3: 30, 4: 40, 5: 50, 6: 60}\n",
    "def is_key_present(x): \n",
    "  if x in d: \n",
    "      print('Key is present in the dictionary')\n",
    "  else: \n",
    "      print('Key is not present in the dictionary')\n",
    "#the second line identifies x as the input (it will the the variable \"is_key_present\")\n",
    "#the third line is conditional, so if x (key to be tested) is in dictionary d (defined in the first line), then it will print what is specified in line 4\n",
    "#'else' corresponds to any situation that does not fall into the if statement (i.e. the key is not in d)\n",
    "#that line of code will prompt it to print the message below it\n",
    "\n",
    "#testing:\n",
    "is_key_present(4) #key=4\n",
    "is_key_present(70) #key 70"
   ]
  },
  {
   "cell_type": "code",
   "execution_count": 23,
   "metadata": {},
   "outputs": [
    {
     "name": "stdout",
     "output_type": "stream",
     "text": [
      "x : 1\n",
      "y : 2\n"
     ]
    }
   ],
   "source": [
    "#5. Write a Python program to iterate over dictionaries using for loops.\n",
    "\n",
    "d = {'x': 1, 'y': 2} \n",
    "for dict_key, dict_value in d.items():\n",
    "    print(dict_key,':',dict_value)\n",
    "    \n",
    "#the first line of the for loop tells the program that the key and value will be the input in the dictionary/set of items d\n",
    "#the last line will print the key, a deliminater, and the value"
   ]
  },
  {
   "cell_type": "code",
   "execution_count": 28,
   "metadata": {},
   "outputs": [
    {
     "name": "stdout",
     "output_type": "stream",
     "text": [
      "Input a number 5\n",
      "{1: 1, 2: 4, 3: 9, 4: 16, 5: 25}\n"
     ]
    }
   ],
   "source": [
    "#6. Write a Python script to generate and print a dictionary that contains a number (between 1 and n) in the form (x, x*x).\n",
    "\n",
    "#unsuccessful attempt\n",
    "#squares_nums = [i * i for i in range(1, 20)]\n",
    "#print(squares_nums)\n",
    "#at this point, I've squared the values in a range, but that range is still confined  and it's not in coordinate form\n",
    "\n",
    "n = int(input(\"Input a number \"))\n",
    "#defines n as an integer; input allows you to input a number for analysis\n",
    "d = dict()\n",
    "#defines an open dictionary\n",
    "\n",
    "for x in range(1,n+1):\n",
    "    d[x]=x*x\n",
    "#defines the range as starting at 1 and ending at n (excluding 1)\n",
    "#squares the input value\n",
    "  \n",
    "print(d)"
   ]
  },
  {
   "cell_type": "code",
   "execution_count": 31,
   "metadata": {},
   "outputs": [
    {
     "name": "stdout",
     "output_type": "stream",
     "text": [
      "{1: 1, 2: 4, 3: 9, 4: 16, 5: 25, 6: 36, 7: 49, 8: 64, 9: 81, 10: 100, 11: 121, 12: 144, 13: 169, 14: 196, 15: 225}\n"
     ]
    }
   ],
   "source": [
    "#7. Write a Python script to print a dictionary where the keys are numbers between 1 and 15 (both included) and the values are square of keys.\n",
    "\n",
    "d = dict()\n",
    "#open an empty dictionary\n",
    "\n",
    "for x in range (1,16):\n",
    "    d[x]=x*x\n",
    "#for loop defines the range as (1,16) to include 15\n",
    "#'d[x]=x*x' squares the selected value \n",
    "\n",
    "print(d)"
   ]
  },
  {
   "cell_type": "code",
   "execution_count": 35,
   "metadata": {},
   "outputs": [
    {
     "name": "stdout",
     "output_type": "stream",
     "text": [
      "{'x': 1, 'y': 2, 'a': 3, 'b': 4}\n"
     ]
    }
   ],
   "source": [
    "#8. Write a Python script to merge two Python dictionaries.\n",
    "\n",
    "d1 = {'x': 1, 'y': 2} \n",
    "d2 = {'a': 3, 'b': 4}\n",
    "#defines 2 dictionaries\n",
    "\n",
    "d1.update(d2)\n",
    "#adds dictionary d2 to d1 to merge\n",
    "\n",
    "print(d1)"
   ]
  },
  {
   "cell_type": "code",
   "execution_count": 37,
   "metadata": {},
   "outputs": [
    {
     "name": "stdout",
     "output_type": "stream",
     "text": [
      "x : 1\n",
      "y : 2\n"
     ]
    }
   ],
   "source": [
    "#9. Write a Python program to iterate over dictionaries using for loops.\n",
    "\n",
    "d = {'x': 1, 'y': 2}\n",
    "for dict_key, dict_value in d.items():\n",
    "     print(dict_key,':',dict_value) \n",
    "        \n",
    "#the first line of the for loop identifies the key and value as the input in the dictionary with items"
   ]
  },
  {
   "cell_type": "code",
   "execution_count": 38,
   "metadata": {},
   "outputs": [
    {
     "name": "stdout",
     "output_type": "stream",
     "text": [
      "10\n"
     ]
    }
   ],
   "source": [
    "#10. Write a Python program to sum all the items in a dictionary.\n",
    "\n",
    "d = {1, 2, 3, 4}\n",
    "#defines a dictionary\n",
    "\n",
    "print(sum(d))\n",
    "#'sum' adds all integers in d"
   ]
  },
  {
   "cell_type": "code",
   "execution_count": null,
   "metadata": {},
   "outputs": [],
   "source": []
  }
 ],
 "metadata": {
  "kernelspec": {
   "display_name": "Python 3",
   "language": "python",
   "name": "python3"
  },
  "language_info": {
   "codemirror_mode": {
    "name": "ipython",
    "version": 3
   },
   "file_extension": ".py",
   "mimetype": "text/x-python",
   "name": "python",
   "nbconvert_exporter": "python",
   "pygments_lexer": "ipython3",
   "version": "3.7.5"
  }
 },
 "nbformat": 4,
 "nbformat_minor": 2
}
