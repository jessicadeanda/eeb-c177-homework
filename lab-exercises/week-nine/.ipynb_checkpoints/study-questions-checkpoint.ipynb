{
 "cells": [
  {
   "cell_type": "markdown",
   "metadata": {},
   "source": [
    "# Study Questions for Regex Quiz \n",
    "\n",
    "https://regexone.com/references/python"
   ]
  },
  {
   "cell_type": "markdown",
   "metadata": {},
   "source": [
    "## The basics:\n",
    "\n",
    "Completed assigned and supplemental questions in RegexOne \n",
    "https://regexone.com/problem/matching_phone_numbers?"
   ]
  },
  {
   "cell_type": "raw",
   "metadata": {},
   "source": [
    "* = wildcard; can appear 0 or more times\n",
    "+ = appears one or more times\n",
    "? = optional; may or may not appear\n",
    "\n",
    ". = any character\n",
    "\\w = letters\n",
    "\\d = digits\n",
    "\\s = white spaces\n",
    "\\n = line breaks\n",
    "\\t = tabs\n",
    "\\b = word boundary; matches blanks \n",
    "    'The cat scattered his food all over the room.'\n",
    "    \\bcat\\b matches the word 'cat', but NOT the cat in s'cat'tered\n",
    "\\W = NOT letters\n",
    "\\D = NOT digits\n",
    "\\S = NOT white spaces\n",
    "\n",
    "^ = start the line here IF outside of the []\n",
    "$ = end line here\n",
    "() = capture everything inside here\n",
    "[] = ( | ) = this OR that\n",
    "\\ = escape\n",
    "\n",
    "Connection examples:\n",
    "\\w+ = [A-Za-z]\n",
    "\\d+ = [0-9]"
   ]
  },
  {
   "cell_type": "markdown",
   "metadata": {},
   "source": [
    "## Regex in Python"
   ]
  },
  {
   "cell_type": "markdown",
   "metadata": {},
   "source": [
    "Raw strings = r' '"
   ]
  },
  {
   "cell_type": "markdown",
   "metadata": {},
   "source": [
    "## Matching a String\n",
    "\n",
    "re.search()\n",
    "* if no match, will return None\n",
    "* if match, will return a re.MatchObject with info about the part of the straing that matched\n",
    "* NOTE: stops after the first match\n",
    "\n",
    "Sample: matchObject = re.search(pattern, input_str, flags=0)\n",
    "\n",
    "#### start() and end() method"
   ]
  },
  {
   "cell_type": "code",
   "execution_count": 5,
   "metadata": {},
   "outputs": [
    {
     "name": "stdout",
     "output_type": "stream",
     "text": [
      "Match at index 0, 7\n",
      "Match from 0 and 7\n"
     ]
    }
   ],
   "source": [
    "import re\n",
    "\n",
    "regex = r\"(\\w+) (\\d+)\"\n",
    "if re.search(regex, \"June 24\"):  \n",
    "    # MatchObject's start() and end() method --> shows where it matches \n",
    "    match = re.search(regex, \"June 24\")\n",
    "    # prints [0, 7) b/c it matches the beginning and end of the string\n",
    "    print(\"Match at index %s, %s\" % (match.start(), match.end()))\n",
    "    print(\"Match from\", match.start(), \"and\", match.end())\n",
    "else:\n",
    "    # If re.search() does not match, then None is returned\n",
    "    print(\"The regex pattern does not match. :(\")"
   ]
  },
  {
   "cell_type": "markdown",
   "metadata": {},
   "source": [
    "#### group() method\n",
    "\n",
    "* match.group(0) always returns the fully matched string\n",
    "* match.group(1), match.group(2), ... will return the capture\n",
    "    * groups in order from left to right in the input string\n",
    "* match.group() is equivalent to match.group(0)"
   ]
  },
  {
   "cell_type": "code",
   "execution_count": 7,
   "metadata": {},
   "outputs": [
    {
     "name": "stdout",
     "output_type": "stream",
     "text": [
      "Full match: June 24\n",
      "Full match: June 24\n",
      "Month: June\n",
      "Day: 24\n"
     ]
    }
   ],
   "source": [
    "regex = r\"(\\w+) (\\d+)\"\n",
    "if re.search(regex, \"June 24\"):  \n",
    "    # MatchObject's start() and end() method --> shows where it matches \n",
    "    match = re.search(regex, \"June 24\")\n",
    "    # this will print the entire string: \"June 24\"\n",
    "    print(\"Full match: %s\" % (match.group(0)))\n",
    "    # again:\n",
    "    print(\"Full match:\", match.group())\n",
    "    # this will print the first capture group: \"June\"\n",
    "    print(\"Month: %s\" % (match.group(1)))\n",
    "    # this will print the second capture group: \"24\"\n",
    "    print(\"Day: %s\" % (match.group(2)))"
   ]
  },
  {
   "cell_type": "markdown",
   "metadata": {},
   "source": [
    "## Capturing groups\n",
    "\n",
    "re.findall()\n",
    "\n",
    "* global search over ENTIRE string\n",
    "* if there are capture groups in pattern: returns a list with captured data\n",
    "* if no capture groups: returns a list of matches\n",
    "* if no match: returns empty list\n",
    "\n",
    "Sample: matchList = re.findall(pattern, input_str, flags=0)   "
   ]
  },
  {
   "cell_type": "code",
   "execution_count": 8,
   "metadata": {},
   "outputs": [
    {
     "name": "stdout",
     "output_type": "stream",
     "text": [
      "Full match: June 24\n",
      "Full match: August 9\n",
      "Full match: Dec 12\n",
      "Match month: June\n",
      "Match month: August\n",
      "Match month: Dec\n"
     ]
    }
   ],
   "source": [
    "import re\n",
    "\n",
    "# no capture group, just match\n",
    "regex = r\"\\w+ \\d+\"\n",
    "matches = re.findall(regex, \"June 24, August 9, Dec 12\")\n",
    "for match in matches:\n",
    "    # This will print:\n",
    "    #   June 24\n",
    "    #   August 9\n",
    "    #   Dec 12\n",
    "    print(\"Full match:\", match)\n",
    "\n",
    "# capture the specific months of each date\n",
    "regex = r\"(\\w+) \\d+\"\n",
    "matches = re.findall(regex, \"June 24, August 9, Dec 12\")\n",
    "for match in matches:\n",
    "    # This will now print:\n",
    "    #   June\n",
    "    #   August\n",
    "    #   Dec\n",
    "    print(\"Match month:\", match)"
   ]
  },
  {
   "cell_type": "markdown",
   "metadata": {},
   "source": [
    "re.findinter()\n",
    "\n",
    "* returns an iterator of re.MatchObjects to walk through\n",
    "\n",
    "Sample: matchList = re.finditer(pattern, input_str, flags=0)"
   ]
  },
  {
   "cell_type": "code",
   "execution_count": 12,
   "metadata": {},
   "outputs": [
    {
     "name": "stdout",
     "output_type": "stream",
     "text": [
      "Match at index: 3, 8\n",
      "Match at index: 10, 18\n",
      "Match at index: 20, 26\n"
     ]
    }
   ],
   "source": [
    "# If we need the exact positions of each match\n",
    "regex = r\"([a-zA-Z]+) \\d+\"\n",
    "matches = re.finditer(regex, \"Ju9ne 24, August 9, Dec 12\")\n",
    "for match in matches:\n",
    "    # This will now print:\n",
    "    #   0 7\n",
    "    #   9 17\n",
    "    #   19 25\n",
    "    # which corresponds with the start and end of each match in the input string\n",
    "    print(\"Match at index: %s, %s\" % (match.start(), match.end()))"
   ]
  },
  {
   "cell_type": "markdown",
   "metadata": {},
   "source": [
    "## Finding and replacing strings\n",
    "\n",
    "re.sub()\n",
    "\n",
    "* optional count argument --> exact # of replacements \n",
    "* if count is less than or equal to 0 --> every match in string is replaced!\n",
    "\n",
    "Sample: replacedString = re.sub(pattern, replacement_pattern, input_str, count, flags=0)"
   ]
  },
  {
   "cell_type": "code",
   "execution_count": 11,
   "metadata": {},
   "outputs": [
    {
     "name": "stdout",
     "output_type": "stream",
     "text": [
      "24 of June, 9 of August, 12 of Dec\n"
     ]
    }
   ],
   "source": [
    "import re\n",
    "\n",
    "# Reverse the order of the day and month in a date string\n",
    "regex = r\"(\\w+) (\\d+)\"\n",
    "\n",
    "# This will reorder the string and print:\n",
    "#   24 of June, 9 of August, 12 of Dec\n",
    "print(re.sub(regex, r\"\\2 of \\1\", \"June 24, August 9, Dec 12\"))"
   ]
  },
  {
   "cell_type": "markdown",
   "metadata": {},
   "source": [
    "## re Flags\n",
    "\n",
    "The regex expressions in this page can take flags.\n",
    "\n",
    "* re.IGNORECASE --> makes the pattern case insensitive\n",
    "* re.MULTILINE --> is necessary if your input string has newlines (\\n)\n",
    "    * start and end (^ and $) at the beginning and end of each line, NOT at the beginning and end of the whole input string\n",
    "* re.DOTALL --> dot (.) can match all characters, including the newline character (\\n)"
   ]
  },
  {
   "cell_type": "markdown",
   "metadata": {},
   "source": [
    "## Compiling a pattern for performance\n",
    "\n",
    "* Compiles regular expression patterns if you have a lot of input strings\n",
    "* Returned object is the same as those above, BUT you don't need patterns/flags for each call\n",
    "\n",
    "Sample: regexObject = re.compile(pattern, flags=0)"
   ]
  },
  {
   "cell_type": "code",
   "execution_count": 13,
   "metadata": {},
   "outputs": [
    {
     "name": "stdout",
     "output_type": "stream",
     "text": [
      "0 11\n",
      "Hello\n",
      "Hello World\n",
      "Hello\n",
      "Bonjour\n",
      "Hello Earth\n"
     ]
    }
   ],
   "source": [
    "import re\n",
    "\n",
    "regex = re.compile(r\"(\\w+) World\")\n",
    "result = regex.search(\"Hello World is the easiest\")\n",
    "if result:\n",
    "    # This will print:\n",
    "    #   0 11\n",
    "    print(result.start(), result.end())\n",
    "    # This will print:\n",
    "    #   Hello\n",
    "    print(result.group(1))\n",
    "    print(result.group(0))\n",
    "    \n",
    "\n",
    "# This will print:\n",
    "#   Hello\n",
    "#   Bonjour\n",
    "# for each of the captured groups that matched\n",
    "for result in regex.findall(\"Hello World, Bonjour World\"):\n",
    "    print(result)\n",
    "\n",
    "# This will substitute \"World\" with \"Earth\" and print:\n",
    "#   Hello Earth\n",
    "print(regex.sub(r\"\\1 Earth\", \"Hello World\"))"
   ]
  },
  {
   "cell_type": "code",
   "execution_count": null,
   "metadata": {},
   "outputs": [],
   "source": []
  }
 ],
 "metadata": {
  "kernelspec": {
   "display_name": "Python 3",
   "language": "python",
   "name": "python3"
  },
  "language_info": {
   "codemirror_mode": {
    "name": "ipython",
    "version": 3
   },
   "file_extension": ".py",
   "mimetype": "text/x-python",
   "name": "python",
   "nbconvert_exporter": "python",
   "pygments_lexer": "ipython3",
   "version": "3.7.5"
  }
 },
 "nbformat": 4,
 "nbformat_minor": 2
}
