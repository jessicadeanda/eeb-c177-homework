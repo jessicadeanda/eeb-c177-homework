{
 "cells": [
  {
   "cell_type": "code",
   "execution_count": 4,
   "metadata": {},
   "outputs": [],
   "source": [
    "import csv\n",
    "import sys\n",
    "\n",
    "family = 'Labridae'\n",
    "\n",
    "csv_file = csv.reader(open('fishdata.csv', \"r\"), delimiter=\",\")\n",
    "output_file = open('fish_data_labridae.txt','w+')\n",
    "\n",
    "for column in csv_file:\n",
    "    if family == column[1]:\n",
    "        data1 = column\n",
    "        for col in range(4):\n",
    "            output_file.write(data1[col] + ',')\n",
    "        output_file.write(data1[4] + '\\n')\n",
    "\n",
    "output_file.close()"
   ]
  },
  {
   "cell_type": "code",
   "execution_count": null,
   "metadata": {},
   "outputs": [],
   "source": []
  }
 ],
 "metadata": {
  "kernelspec": {
   "display_name": "Python 3",
   "language": "python",
   "name": "python3"
  },
  "language_info": {
   "codemirror_mode": {
    "name": "ipython",
    "version": 3
   },
   "file_extension": ".py",
   "mimetype": "text/x-python",
   "name": "python",
   "nbconvert_exporter": "python",
   "pygments_lexer": "ipython3",
   "version": "3.7.5"
  }
 },
 "nbformat": 4,
 "nbformat_minor": 2
}
